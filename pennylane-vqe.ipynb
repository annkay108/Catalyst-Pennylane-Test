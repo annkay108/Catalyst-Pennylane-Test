{
 "cells": [
  {
   "cell_type": "code",
   "execution_count": 1,
   "id": "c94c4ac7",
   "metadata": {},
   "outputs": [],
   "source": [
    "import catalyst\n",
    "from catalyst import qjit\n",
    "\n",
    "import pennylane as qml\n",
    "from pennylane import numpy as np\n",
    "\n",
    "import jax.numpy as jnp\n",
    "\n",
    "import functools\n",
    "import time\n",
    "\n",
    "import warnings\n",
    "warnings.filterwarnings('ignore')"
   ]
  },
  {
   "cell_type": "code",
   "execution_count": 2,
   "id": "7c16a850",
   "metadata": {},
   "outputs": [
    {
     "name": "stdout",
     "output_type": "stream",
     "text": [
      "qubits: 6\n"
     ]
    }
   ],
   "source": [
    "symbols = [\"H\", \"H\", \"H\"]\n",
    "coordinates = np.array([0.028, 0.054, 0.0, 0.986, 1.610, 0.0, 1.855, 0.002, 0.0])\n",
    "\n",
    "# Building the molecular hamiltonian for the trihydrogen cation\n",
    "hamiltonian, qubits = qml.qchem.molecular_hamiltonian(symbols, coordinates, charge=1)\n",
    "\n",
    "print(f\"qubits: {qubits}\")"
   ]
  },
  {
   "cell_type": "code",
   "execution_count": 3,
   "id": "854fe695",
   "metadata": {},
   "outputs": [],
   "source": [
    "# The Hartree-Fock State\n",
    "hf = qml.qchem.hf_state(electrons=2, orbitals=6)\n",
    "\n",
    "# Define the device, using lightning.qubit device\n",
    "dev = qml.device(\"lightning.qubit\", wires=qubits)\n",
    "\n",
    "@qml.qnode(dev, diff_method=\"adjoint\")\n",
    "def cost_func(params):\n",
    "    qml.BasisState(hf, wires=range(qubits))\n",
    "    qml.DoubleExcitation(params[0], wires=[0, 1, 2, 3])\n",
    "    qml.DoubleExcitation(params[1], wires=[0, 1, 4, 5])\n",
    "    return qml.expval(hamiltonian)"
   ]
  },
  {
   "cell_type": "code",
   "execution_count": 4,
   "id": "273be641",
   "metadata": {},
   "outputs": [
    {
     "name": "stdout",
     "output_type": "stream",
     "text": [
      "Final time: 0.1291189193725586 \n",
      "\n",
      "\n",
      "Final angle parameters: [0.18814175 0.18891605]\n"
     ]
    }
   ],
   "source": [
    "def workflow(params, ntrials):\n",
    "    opt = qml.GradientDescentOptimizer(stepsize=0.4)\n",
    "\n",
    "    for n in range(ntrials):\n",
    "        params, prev_energy = opt.step_and_cost(cost_func, params)\n",
    "        # print(f\"--- Step: {n}, Energy: {cost_func(params):.8f}\")\n",
    "\n",
    "    return params\n",
    "\n",
    "start = time.time()\n",
    "theta = workflow(np.array([0.0, 0.0]), 20)\n",
    "end = time.time()\n",
    "\n",
    "print(\"Final time:\",end-start,\"\\n\\n\")\n",
    "print(f\"Final angle parameters: {theta}\")"
   ]
  },
  {
   "cell_type": "code",
   "execution_count": 5,
   "id": "bd1da776",
   "metadata": {},
   "outputs": [
    {
     "name": "stdout",
     "output_type": "stream",
     "text": [
      "The Hartree-Fock State: [1 1 0 0 0 0]\n"
     ]
    }
   ],
   "source": [
    "hf = qml.qchem.hf_state(electrons=2, orbitals=6)\n",
    "print(f\"The Hartree-Fock State: {hf}\")\n",
    "\n",
    "@qml.qnode(qml.device(\"lightning.qubit\", wires=qubits))\n",
    "def catalyst_cost_func(params):\n",
    "    qml.BasisState(hf, wires=range(qubits))\n",
    "    qml.DoubleExcitation(params[0], wires=[0, 1, 2, 3])\n",
    "    qml.DoubleExcitation(params[1], wires=[0, 1, 4, 5])\n",
    "    coeffs, ops = hamiltonian.terms()\n",
    "    return qml.expval(qml.Hamiltonian(np.array(coeffs), ops))"
   ]
  },
  {
   "cell_type": "code",
   "execution_count": 6,
   "id": "47c6f4e6",
   "metadata": {},
   "outputs": [
    {
     "name": "stdout",
     "output_type": "stream",
     "text": [
      "Final time: 1.203507900238037 \n",
      "\n",
      "\n",
      "Final angle parameters: [0.18814175 0.18891605]\n"
     ]
    }
   ],
   "source": [
    "@qjit\n",
    "def grad_descent(params, ntrials: int, stepsize: float):\n",
    "    diff = catalyst.grad(catalyst_cost_func, argnums=0)\n",
    "    theta = params\n",
    "\n",
    "     # for_loop can only be used in JIT mode\n",
    "    @catalyst.for_loop(0, ntrials, 1)\n",
    "    def single_step(i, theta):\n",
    "        h = diff(theta)\n",
    "        return theta - h * stepsize\n",
    "\n",
    "    return single_step(theta)\n",
    "\n",
    "startCatalyst = time.time()\n",
    "theta = grad_descent(jnp.array([0.0, 0.0]), 20, 0.4)\n",
    "endCatalyst = time.time()\n",
    "\n",
    "print(\"Final time:\",endCatalyst-startCatalyst,\"\\n\\n\")\n",
    "print(f\"Final angle parameters: {theta}\")"
   ]
  },
  {
   "cell_type": "code",
   "execution_count": 7,
   "id": "a59bcca8",
   "metadata": {},
   "outputs": [],
   "source": [
    "import optax\n",
    "from jax.lax import fori_loop"
   ]
  },
  {
   "cell_type": "code",
   "execution_count": 8,
   "id": "0b78ce4f",
   "metadata": {},
   "outputs": [
    {
     "name": "stdout",
     "output_type": "stream",
     "text": [
      "Final time: 0.11701726913452148 \n",
      "\n",
      "\n",
      "Final angle parameters: [0.18814175 0.18891605]\n"
     ]
    }
   ],
   "source": [
    "@qjit\n",
    "def workflow():\n",
    "    def gd_fun(params):\n",
    "        diff = catalyst.grad(catalyst_cost_func, argnums=0)\n",
    "        return catalyst_cost_func(params), diff(params)\n",
    "\n",
    "    opt = optax.sgd(learning_rate=0.4)\n",
    "\n",
    "    def gd_update(i, args):\n",
    "        param, state = args\n",
    "        _, gradient = gd_fun(param)\n",
    "        (updates, state) = opt.update(gradient, state)\n",
    "        param = optax.apply_updates(param, updates)\n",
    "        return (param, state)\n",
    "\n",
    "    params = jnp.array([0.0, 0.0])\n",
    "    state = opt.init(params)\n",
    "    upper = 20\n",
    "    (params, _) = fori_loop(0, upper, gd_update, (params, state))\n",
    "    return params\n",
    "\n",
    "startJAXOpt = time.time()\n",
    "theta = workflow()\n",
    "endJAXOpt = time.time()\n",
    "\n",
    "print(\"Final time:\",endJAXOpt-startJAXOpt,\"\\n\\n\")\n",
    "\n",
    "print(f\"Final angle parameters: {theta}\")"
   ]
  },
  {
   "cell_type": "code",
   "execution_count": 9,
   "id": "4d3e00ce",
   "metadata": {},
   "outputs": [
    {
     "name": "stdout",
     "output_type": "stream",
     "text": [
      "Final time: 0.9155933856964111 \n",
      "\n",
      "\n",
      "Final angle parameters: [0.18814175 0.18891605]\n"
     ]
    }
   ],
   "source": [
    "@qjit\n",
    "def grad_descent_step(params, stepsize: float):\n",
    "    diff = catalyst.grad(catalyst_cost_func, argnums=0)\n",
    "    return params - diff(params) * stepsize\n",
    "\n",
    "theta = jnp.array([0.0, 0.0])\n",
    "\n",
    "startJIT = time.time()\n",
    "\n",
    "for i in range(20):\n",
    "    theta = grad_descent_step(theta, 0.4)\n",
    "    # print(f\"--- Step: {i}, Energy: {qjit(catalyst_cost_func)(theta):.8f}\")\n",
    "\n",
    "endJIT = time.time()\n",
    "\n",
    "print(\"Final time:\",endJIT-startJIT,\"\\n\\n\")\n",
    "\n",
    "print(f\"Final angle parameters: {theta}\")"
   ]
  },
  {
   "cell_type": "code",
   "execution_count": null,
   "id": "3241f842",
   "metadata": {},
   "outputs": [],
   "source": []
  }
 ],
 "metadata": {
  "kernelspec": {
   "display_name": "pennylane-test",
   "language": "python",
   "name": "python3"
  },
  "language_info": {
   "codemirror_mode": {
    "name": "ipython",
    "version": 3
   },
   "file_extension": ".py",
   "mimetype": "text/x-python",
   "name": "python",
   "nbconvert_exporter": "python",
   "pygments_lexer": "ipython3",
   "version": "3.11.12"
  }
 },
 "nbformat": 4,
 "nbformat_minor": 5
}
