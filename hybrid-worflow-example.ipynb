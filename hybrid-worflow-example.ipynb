{
 "cells": [
  {
   "cell_type": "code",
   "execution_count": 14,
   "id": "e033974d",
   "metadata": {},
   "outputs": [
    {
     "name": "stdout",
     "output_type": "stream",
     "text": [
      "[[-0.08257651 -0.0075295  -0.01007543  0.10362513]\n",
      " [-1.58010072 -0.4642326   0.01680865  1.60022535]\n",
      " [-1.64318142 -0.04204414  0.22940424  0.01821919]\n",
      " [ 0.00550645  1.69226951  0.00624569  0.06770775]\n",
      " [-0.02196728  0.15368392  1.25898752 -0.78985517]]\n",
      "Final Time:  25.078877925872803\n"
     ]
    }
   ],
   "source": [
    "import numpy as np\n",
    "import jax\n",
    "import pennylane as qml\n",
    "import jax.numpy as jnp\n",
    "import optax\n",
    "import time\n",
    "\n",
    "dev = qml.device(\"default.qubit\", wires=4)\n",
    "\n",
    "@qml.qnode(dev)\n",
    "def cost(weights, data):\n",
    "    qml.AngleEmbedding(data, wires=range(4))\n",
    "\n",
    "    for x in weights:\n",
    "        # each trainable layer\n",
    "        for i in range(4):\n",
    "            # for each wire\n",
    "            if x[i] > 0:\n",
    "                qml.RX(x[i], wires=i)\n",
    "            elif x[i] < 0:\n",
    "                qml.RY(x[i], wires=i)\n",
    "\n",
    "        for i in range(4):\n",
    "            qml.CNOT(wires=[i, (i + 1) % 4])\n",
    "\n",
    "    return qml.expval(qml.PauliZ(0) + qml.PauliZ(3))\n",
    "\n",
    "weights = jnp.array(2 * np.random.random([5, 4]) - 1)\n",
    "data = jnp.array(np.random.random([4]))\n",
    "\n",
    "opt = optax.sgd(learning_rate=0.4)\n",
    "\n",
    "params = weights\n",
    "state = opt.init(params)\n",
    "\n",
    "startTime = time.time()\n",
    "for i in range(200):\n",
    "    gradient = jax.grad(cost)(params, data)\n",
    "    (updates, state) = opt.update(gradient, state)\n",
    "    params = optax.apply_updates(params, updates)\n",
    "\n",
    "endTime = time.time()\n",
    "print(params)\n",
    "\n",
    "print(\"Final Time: \",endTime-startTime)"
   ]
  },
  {
   "cell_type": "code",
   "execution_count": 15,
   "id": "e5c65909",
   "metadata": {},
   "outputs": [
    {
     "name": "stdout",
     "output_type": "stream",
     "text": [
      "[[-0.08257651 -0.0075295  -0.01007543  0.10362513]\n",
      " [-1.58010072 -0.4642326   0.01680865  1.60022535]\n",
      " [-1.64318142 -0.04204414  0.22940424  0.01821919]\n",
      " [ 0.00550645  1.69226951  0.00624569  0.06770775]\n",
      " [-0.02196728  0.15368392  1.25898752 -0.78985517]]\n",
      "Final Time:  3.5193538665771484\n"
     ]
    }
   ],
   "source": [
    "import jax\n",
    "from catalyst import qjit, for_loop, cond, grad\n",
    "\n",
    "dev = qml.device(\"lightning.qubit\", wires=4)\n",
    "\n",
    "@qjit\n",
    "@qml.qnode(dev)\n",
    "def cost(weights, data):\n",
    "    qml.AngleEmbedding(data, wires=range(4))\n",
    "\n",
    "    def layer_loop(i):\n",
    "        x = weights[i]\n",
    "        def wire_loop(j):\n",
    "\n",
    "            @cond(x[j] > 0)\n",
    "            def trainable_gate():\n",
    "                qml.RX(x[j], wires=j)\n",
    "\n",
    "            @trainable_gate.else_if(x[j] < 0)\n",
    "            def negative_gate():\n",
    "                qml.RY(x[j], wires=j)\n",
    "\n",
    "            trainable_gate.otherwise(lambda: None)\n",
    "            trainable_gate()\n",
    "\n",
    "        def cnot_loop(j):\n",
    "            qml.CNOT(wires=[j, jnp.mod((j + 1), 4)])\n",
    "\n",
    "        for_loop(0, 4, 1)(wire_loop)()\n",
    "        for_loop(0, 4, 1)(cnot_loop)()\n",
    "\n",
    "    for_loop(0, jnp.shape(weights)[0], 1)(layer_loop)()\n",
    "    return qml.expval(qml.PauliZ(0) + qml.PauliZ(3))\n",
    "\n",
    "opt = optax.sgd(learning_rate=0.4)\n",
    "\n",
    "params = weights\n",
    "state = opt.init(params)\n",
    "\n",
    "startTimeQjit = time.time()\n",
    "for i in range(200):\n",
    "    gradient = jax.grad(cost)(params, data)\n",
    "    (updates, state) = opt.update(gradient, state)\n",
    "    params = optax.apply_updates(params, updates)\n",
    "\n",
    "endTimeQjit = time.time()\n",
    "print(params)\n",
    "print(\"Final Time: \", endTimeQjit-startTimeQjit)"
   ]
  },
  {
   "cell_type": "code",
   "execution_count": 16,
   "id": "5fa3e1dd",
   "metadata": {},
   "outputs": [
    {
     "name": "stdout",
     "output_type": "stream",
     "text": [
      "[[-0.08257651 -0.0075295  -0.01007543  0.10362513]\n",
      " [-1.58010072 -0.4642326   0.01680865  1.60022535]\n",
      " [-1.64318142 -0.04204414  0.22940424  0.01821919]\n",
      " [ 0.00550645  1.69226951  0.00624569  0.06770775]\n",
      " [-0.02196728  0.15368392  1.25898752 -0.78985517]]\n",
      "Final time:  1.3835999965667725\n"
     ]
    }
   ],
   "source": [
    "@qjit\n",
    "def optimize(init_weights, data, steps):\n",
    "    def loss(x):\n",
    "        dy = grad(cost, argnums=0)(x, data)\n",
    "        return (cost(x, data), dy)\n",
    "\n",
    "    opt = optax.sgd(learning_rate=0.4)\n",
    "\n",
    "    def update_step(i, params, state):\n",
    "        (_, gradient) = loss(params)\n",
    "        (updates, state) = opt.update(gradient, state)\n",
    "        params = optax.apply_updates(params, updates)\n",
    "        return (params, state)\n",
    "\n",
    "    params = init_weights\n",
    "    state = opt.init(params)\n",
    "\n",
    "    return for_loop(0, steps, 1)(update_step)(params, state)\n",
    "\n",
    "startOptimize = time.time()\n",
    "optimize(weights, data, 200)\n",
    "endOptimize = time.time()\n",
    "\n",
    "print(params)\n",
    "\n",
    "print(\"Final time: \", endOptimize-startOptimize)"
   ]
  },
  {
   "cell_type": "code",
   "execution_count": null,
   "id": "04061223",
   "metadata": {},
   "outputs": [],
   "source": []
  }
 ],
 "metadata": {
  "kernelspec": {
   "display_name": "pennylane-test",
   "language": "python",
   "name": "python3"
  },
  "language_info": {
   "codemirror_mode": {
    "name": "ipython",
    "version": 3
   },
   "file_extension": ".py",
   "mimetype": "text/x-python",
   "name": "python",
   "nbconvert_exporter": "python",
   "pygments_lexer": "ipython3",
   "version": "3.11.12"
  }
 },
 "nbformat": 4,
 "nbformat_minor": 5
}
